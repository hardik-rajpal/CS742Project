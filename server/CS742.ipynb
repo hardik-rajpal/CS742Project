{
  "nbformat": 4,
  "nbformat_minor": 0,
  "metadata": {
    "colab": {
      "provenance": []
    },
    "kernelspec": {
      "name": "python3",
      "display_name": "Python 3"
    },
    "language_info": {
      "name": "python"
    }
  },
  "cells": [
    {
      "cell_type": "code",
      "source": [
        "!pip install gpt4all"
      ],
      "metadata": {
        "colab": {
          "base_uri": "https://localhost:8080/"
        },
        "id": "ccbg2-XUsTdF",
        "outputId": "1aee61dd-4f8b-4eb8-ede8-e781645abe01"
      },
      "execution_count": 1,
      "outputs": [
        {
          "output_type": "stream",
          "name": "stdout",
          "text": [
            "Requirement already satisfied: gpt4all in /usr/local/lib/python3.10/dist-packages (2.0.2)\n",
            "Requirement already satisfied: requests in /usr/local/lib/python3.10/dist-packages (from gpt4all) (2.31.0)\n",
            "Requirement already satisfied: tqdm in /usr/local/lib/python3.10/dist-packages (from gpt4all) (4.66.1)\n",
            "Requirement already satisfied: charset-normalizer<4,>=2 in /usr/local/lib/python3.10/dist-packages (from requests->gpt4all) (3.3.2)\n",
            "Requirement already satisfied: idna<4,>=2.5 in /usr/local/lib/python3.10/dist-packages (from requests->gpt4all) (3.4)\n",
            "Requirement already satisfied: urllib3<3,>=1.21.1 in /usr/local/lib/python3.10/dist-packages (from requests->gpt4all) (2.0.7)\n",
            "Requirement already satisfied: certifi>=2017.4.17 in /usr/local/lib/python3.10/dist-packages (from requests->gpt4all) (2023.7.22)\n"
          ]
        }
      ]
    },
    {
      "cell_type": "code",
      "execution_count": 2,
      "metadata": {
        "id": "EyJfG7aITZoB"
      },
      "outputs": [],
      "source": [
        "from gpt4all import GPT4All\n",
        "import json\n",
        "DEFAULT_MODEL = \"orca-mini-3b.ggmlv3.q4_0.bin\"\n",
        "GPT4FAICON_MODEL = \"mistral-7b-openorca.Q4_0.gguf\"\n",
        "\"\"\"\n",
        "Prompt that works with GPT\n",
        "Give me 3 sentences with the same meaning as \"Grant the class-clown a Guy-Fawkes curtain and suddenly, his jokes aren't gonna be quite PG13.\" Write nothing else in your response.\n",
        "\"\"\"\n",
        "\n",
        "class Rephraser:\n",
        "    def __init__(self,modelName=DEFAULT_MODEL):\n",
        "        self.model = GPT4All(modelName)\n",
        "    def setUpModel(self,numPhrases):\n",
        "        queryStr = f\"For each sentence I give you next, give me {numPhrases} sentences which have exactly the same meaning as my sentence.\"\n",
        "        output = self.model.generate(queryStr,temp=0)\n",
        "        print(\"Setup output: \",output)\n",
        "    def getParaphrases(self,sentence,numPhrases):\n",
        "        ans = [sentence]\n",
        "        # print(queryStr)\n",
        "        queryStr = f\"Give me {numPhrases} sentences which have exactly the same meaning as '{sentence}'\"\n",
        "        output = self.model.generate(queryStr,temp=0)\n",
        "        phrases = output.splitlines()\n",
        "        if(len(phrases)==numPhrases+1):\n",
        "            for phrase in phrases:\n",
        "                if(len(phrase)>0):\n",
        "                    phrase = phrase.split('. ')[1]# removing enumeration\n",
        "                    ans.append(phrase)\n",
        "                else:\n",
        "                    print(\"unexpected phrase: \",phrase)\n",
        "        else:\n",
        "            print('unexpected output: ',output)\n",
        "        return ans\n",
        "    def responseToList(self,response):\n",
        "        phrases = response.splitlines()\n",
        "        ans = []\n",
        "        phrases = list(filter(lambda phrase:len(phrase)>0,phrases))\n",
        "        for phrase in phrases:\n",
        "            phrase = phrase.split('. ')[1] # removing enumeration.\n",
        "            ans.append(phrase)\n",
        "        return ans\n",
        "    def paraphraseSentences(self,sentences,numPhrases,minLength=1):\n",
        "        ans = []\n",
        "        i = 0\n",
        "        l = len(sentences)\n",
        "        BATCH_SIZE = 4\n",
        "        SYSTEM_TEMPLATE=f\"You are used to paraphrase sentences\"\n",
        "        PROMPT_TEMPLATE=f\"Give me {numPhrases} sentences which have exactly the same meaning as \" + \"'{0}'\"\n",
        "        for batchIndex in range(0,l,BATCH_SIZE):\n",
        "            with self.model.chat_session(SYSTEM_TEMPLATE,PROMPT_TEMPLATE):\n",
        "                for sentence in sentences[batchIndex:batchIndex+BATCH_SIZE]:\n",
        "                    i+=1\n",
        "                    options = [sentence]\n",
        "                    if((len(sentence.split(' '))>minLength)):\n",
        "                        response = self.model.generate(sentence,temp=0);\n",
        "                        phrases = self.responseToList(response)\n",
        "                        if(len(phrases)==numPhrases):\n",
        "                            options.extend(phrases)\n",
        "                        else:\n",
        "                            print('For sentence: ',sentence,' got ',len(phrases),' phrases.')\n",
        "                            print('unexpected phrases at: ',response)\n",
        "                        # ans.append(self.getParaphrases(sentence,numPhrases,True))\n",
        "                    ans.append(options)\n",
        "                    print(i,\" of \", l,\" sentences done\")\n",
        "        return ans"
      ]
    },
    {
      "cell_type": "code",
      "source": [
        "GPT4FAICON_MODEL = \"gpt4all-falcon-q4_0.gguf\"\n",
        "rephraser = Rephraser(modelName=GPT4FAICON_MODEL)\n"
      ],
      "metadata": {
        "id": "9ehBa9qIsME5"
      },
      "execution_count": 3,
      "outputs": []
    },
    {
      "cell_type": "code",
      "source": [
        "import re\n",
        "delims = ('?','!','.')\n",
        "inputSents = \"\"\"Online Education; it’s a curse for some students and a blessing for others. The part that pleases me the most is the ease with which we can switch classrooms. The only way I am gonna be happy if the campus reopens is if the lecture halls are a Chrome tab away. The idea of a \"flipped-classroom\" model, where the students watch the pre-recorded lectures before having a live class, really relaxes the time constraints faced in traditional schooling. As advocated by Sal Khan from Khan Academy, the whole process can become perfection-centred rather than the usual complete-the-syllabus-on-time-centred. This fluidity of the schedule permits one to partition their time to maximise their efficiency and clarity in a concept; a point sadly overlooked in the conventional and offline teaching methods. These ideas being the bright side of the issue; there are screen-sharing mishaps, an absurd absence of a schedule in the lives of the undisciplined students, and loosely proctored quizzes to restore the balance. There's no stringent bus driver who's gonna leave you behind if you're not at the stop on time; no way for the teacher to genuinely threaten you for your disrespectful actions. Teachers have gone from the magicians in their five-star, one-person shows to street performers, begging for the least possible glance of interest at a medieval café. There's no way they can suspend you, the only useful arrow in their otherwise hollow quavers, for being late to the zoom meeting; why of course, you had connectivity issues, who doesn't when there's a biology class at 8:30 in the morning? Another problem is the access to anonymity on specific platforms. Grant the class-clown a Guy-Fawkes curtain and suddenly, his jokes aren't gonna be quite PG13.\"\"\"\n",
        "# inputSents = \"\"\"Corruption is loosely understood as a display of dishonesty by a person in power, which results in unfair outcomes. This usually evokes the image of an obese (government) official accepting a seemingly innocent box of sweets across his desk, with a grin wide enough to swallow his ears. He accepts it in return for a favour asked by a politician, a criminal, a criminal politician, or, in one of the saddest circumstances, a common man. One whose stack of problems has finally persuaded him to abandon his morality. When we think of fighting against corruption, we imagine such slippery cogs being reported, caught and hopefully punished for their decisions. However, dishonesty, unfairness and power do manifest themselves in many places other than the greasy desks of government officials. When a businessman in a rush decides to join the queue at the hot dog stand, anywhere other than at the back of the queue, he’s abusing the power he has to ensure the functioning of a system as simple and elegant as the queue. Each participant has the power to ensure this by adhering to the unspoken rule of the queue: those who come first, shall be served first. To cut ahead of people is to blatantly lie about your arrival time to anyone joining the queue. Additionally, it is unfair to anyone you cut ahead of. For a moment, let’s reflect on the businessman and why he makes this arguably corrupt choice. One can cook up some backstory that paints our transgressor in a helpless light; maybe he was in a rush so he could visit his sick mother at the hospital before he returns to the mill to sweat out his blood and bruise his knuckles, just to keep up with the daily bills. While this is rarely the case, who’s to say that everyone else, or even anyone else, in the queue whom he’s robbing of fair treatment, has a life any more comfortable than his? His decision, therefore, can be seen as selfish and short-sighted. By his implicit argument, the right way to run a hot dog stand would be to have every incoming customer share their life story and have the urgence associated with their purchase evaluated by the others, to assign them a spot in this new priority queue.\"\"\"\n",
        "regex = '|'.join('(?<={})'.format(re.escape(delim)) for delim in delims)\n",
        "# print(regex)\n",
        "output = re.split(regex,inputSents)\n",
        "output.pop()\n",
        "output = list(map(lambda x:x.strip(),output))\n",
        "# inputSents = [inputSents[0],inputSents[1]] # limiting to two sentences.\n",
        "print(*enumerate(output),sep='\\n')"
      ],
      "metadata": {
        "colab": {
          "base_uri": "https://localhost:8080/"
        },
        "id": "sSXtCPB1QC_L",
        "outputId": "922520bf-7c97-4be1-e641-ae8c10b4a496"
      },
      "execution_count": 4,
      "outputs": [
        {
          "output_type": "stream",
          "name": "stdout",
          "text": [
            "(0, 'Online Education; it’s a curse for some students and a blessing for others.')\n",
            "(1, 'The part that pleases me the most is the ease with which we can switch classrooms.')\n",
            "(2, 'The only way I am gonna be happy if the campus reopens is if the lecture halls are a Chrome tab away.')\n",
            "(3, 'The idea of a \"flipped-classroom\" model, where the students watch the pre-recorded lectures before having a live class, really relaxes the time constraints faced in traditional schooling.')\n",
            "(4, 'As advocated by Sal Khan from Khan Academy, the whole process can become perfection-centred rather than the usual complete-the-syllabus-on-time-centred.')\n",
            "(5, 'This fluidity of the schedule permits one to partition their time to maximise their efficiency and clarity in a concept; a point sadly overlooked in the conventional and offline teaching methods.')\n",
            "(6, 'These ideas being the bright side of the issue; there are screen-sharing mishaps, an absurd absence of a schedule in the lives of the undisciplined students, and loosely proctored quizzes to restore the balance.')\n",
            "(7, \"There's no stringent bus driver who's gonna leave you behind if you're not at the stop on time; no way for the teacher to genuinely threaten you for your disrespectful actions.\")\n",
            "(8, 'Teachers have gone from the magicians in their five-star, one-person shows to street performers, begging for the least possible glance of interest at a medieval café.')\n",
            "(9, \"There's no way they can suspend you, the only useful arrow in their otherwise hollow quavers, for being late to the zoom meeting; why of course, you had connectivity issues, who doesn't when there's a biology class at 8:30 in the morning?\")\n",
            "(10, 'Another problem is the access to anonymity on specific platforms.')\n",
            "(11, \"Grant the class-clown a Guy-Fawkes curtain and suddenly, his jokes aren't gonna be quite PG13.\")\n"
          ]
        }
      ]
    },
    {
      "cell_type": "code",
      "source": [
        "\n",
        "phrases = rephraser.paraphraseSentences(output,3)\n",
        "vars = json.dumps(phrases,indent=2)\n",
        "print(vars)"
      ],
      "metadata": {
        "id": "3RN2p83ntscg",
        "colab": {
          "base_uri": "https://localhost:8080/"
        },
        "outputId": "6619457c-ee3f-4854-9fe8-a623ed8f6a05"
      },
      "execution_count": 5,
      "outputs": [
        {
          "output_type": "stream",
          "name": "stdout",
          "text": [
            "1  of  12  sentences done\n",
            "2  of  12  sentences done\n",
            "3  of  12  sentences done\n",
            "4  of  12  sentences done\n",
            "5  of  12  sentences done\n",
            "6  of  12  sentences done\n",
            "7  of  12  sentences done\n",
            "8  of  12  sentences done\n",
            "9  of  12  sentences done\n",
            "10  of  12  sentences done\n",
            "11  of  12  sentences done\n",
            "12  of  12  sentences done\n",
            "[\n",
            "  [\n",
            "    \"Online Education; it\\u2019s a curse for some students and a blessing for others.\",\n",
            "    \"Online education can be challenging for some students, while it offers benefits for others.\",\n",
            "    \"The online learning experience can be overwhelming for some students, but it is advantageous for others.\",\n",
            "    \"Some students find online education to be a burden, while others find it beneficial.\"\n",
            "  ],\n",
            "  [\n",
            "    \"The part that pleases me the most is the ease with which we can switch classrooms.\",\n",
            "    \"The aspect of my job that I enjoy the most is the convenience of being able to switch between classrooms easily.\",\n",
            "    \"The thing that brings me the most satisfaction in my work is the ability to move between classrooms without any hassle.\",\n",
            "    \"The part of my job that I find the most enjoyable is the flexibility to switch between classrooms with ease.\"\n",
            "  ],\n",
            "  [\n",
            "    \"The only way I am gonna be happy if the campus reopens is if the lecture halls are a Chrome tab away.\",\n",
            "    \"The only way I can be content if the campus reopens is if the lecture halls are accessible through a Chrome tab.\",\n",
            "    \"If the lecture halls are available through a Chrome tab, then I will be satisfied with the campus reopening.\",\n",
            "    \"The only way I can feel happy if the campus reopens is if the lecture halls are accessible through a Chrome tab.\"\n",
            "  ],\n",
            "  [\n",
            "    \"The idea of a \\\"flipped-classroom\\\" model, where the students watch the pre-recorded lectures before having a live class, really relaxes the time constraints faced in traditional schooling.\",\n",
            "    \"The concept of a flipped classroom, where students watch pre-recorded lectures before having live classes, is a great way to reduce time constraints in traditional schooling.\",\n",
            "    \"The idea of a flipped classroom, where students watch pre-recorded lectures before having live classes, can help alleviate the pressure of traditional schooling.\",\n",
            "    \"The concept of a flipped classroom, where students watch pre-recorded lectures before having live classes, is an effective way to reduce time constraints in traditional schooling.\"\n",
            "  ],\n",
            "  [\n",
            "    \"As advocated by Sal Khan from Khan Academy, the whole process can become perfection-centred rather than the usual complete-the-syllabus-on-time-centred.\",\n",
            "    \"As suggested by Sal Khan from Khan Academy, the entire process can be transformed into a perfection-centered approach instead of the traditional \\\"complete the syllabus on time\\\" mindset.\",\n",
            "    \"Sal Khan's approach to education emphasizes a perfection-centered approach that focuses on developing skills and fostering creativity rather than simply completing tasks within a set timeframe.\",\n",
            "    \"Sal Khan's philosophy of education places emphasis on a perfection-centered approach, which prioritizes cultivating skills and fostering creativity over adhering to strict deadlines or completing tasks within a specific time frame.\"\n",
            "  ],\n",
            "  [\n",
            "    \"This fluidity of the schedule permits one to partition their time to maximise their efficiency and clarity in a concept; a point sadly overlooked in the conventional and offline teaching methods.\",\n",
            "    \"The flexibility of the schedule allows individuals to allocate their time effectively, maximizing their efficiency and clarity in understanding concepts, which is often neglected in traditional and offline teaching methods.\",\n",
            "    \"The fluidity of the schedule enables individuals to manage their time efficiently and gain a deeper understanding of concepts, which is often overlooked in conventional and offline teaching methods.\",\n",
            "    \"The flexibility of the schedule allows individuals to allocate their time effectively, maximizing their efficiency and clarity in understanding concepts, which is often overlooked in traditional and offline teaching methods.\"\n",
            "  ],\n",
            "  [\n",
            "    \"These ideas being the bright side of the issue; there are screen-sharing mishaps, an absurd absence of a schedule in the lives of the undisciplined students, and loosely proctored quizzes to restore the balance.\",\n",
            "    \"The positive aspects of the situation include the ability to work around screen-sharing issues, the lack of a structured schedule for undisciplined students, and the opportunity to take advantage of lenient proctoring practices to restore balance.\",\n",
            "    \"The benefits of the situation include the ability to adapt to screen-sharing challenges, the absence of a rigid schedule for undisciplined students, and the chance to take advantage of flexible proctoring policies to restore equilibrium.\",\n",
            "    \"The advantages of the situation include the ability to work around screen-sharing difficulties, the lack of a structured schedule for undisciplined students, and the opportunity to take advantage of lenient proctoring practices to restore balance.\"\n",
            "  ],\n",
            "  [\n",
            "    \"There's no stringent bus driver who's gonna leave you behind if you're not at the stop on time; no way for the teacher to genuinely threaten you for your disrespectful actions.\",\n",
            "    \"There is no strict bus driver or teacher who will penalize you for being late, and there are no consequences for disrespecting authority figures.\",\n",
            "    \"There is no strict bus driver or teacher who will punish you for being late, and there are no repercussions for disregarding the rules of authority figures.\",\n",
            "    \"There is no strict bus driver or teacher who will penalize you for being late, and there are no consequences for disobeying the rules of authority figures.\"\n",
            "  ],\n",
            "  [\n",
            "    \"Teachers have gone from the magicians in their five-star, one-person shows to street performers, begging for the least possible glance of interest at a medieval caf\\u00e9.\",\n",
            "    \"Teachers have gone from being masters of illusion and spectacle in their elaborate performances to struggling street performers, hoping for even a fleeting glance of interest from passersby at a modest medieval caf\\u00e9.\",\n",
            "    \"The once-glamorous world of magic and illusion has been replaced by the humblest of professions, as teachers now struggle to make ends meet and eke out a living in the most unassuming of settings.\",\n",
            "    \"From the grand stages of their former careers to the cramped quarters of a medieval caf\\u00e9, teachers have seen their fortunes plummet, leaving them with little more than the hope of a fleeting glance from a passerby as they struggle to make ends meet.\"\n",
            "  ],\n",
            "  [\n",
            "    \"There's no way they can suspend you, the only useful arrow in their otherwise hollow quavers, for being late to the zoom meeting; why of course, you had connectivity issues, who doesn't when there's a biology class at 8:30 in the morning?\",\n",
            "    \"There is no way that teachers can be suspended for being late to a virtual meeting, as they have no other useful arrows in their quiver besides their ability to connect with students online.\",\n",
            "    \"Despite the challenges of working remotely and dealing with connectivity issues, teachers are able to maintain their presence and continue to provide support to their students through virtual meetings.\",\n",
            "    \"While it may be frustrating for teachers to experience technical difficulties during a meeting, they remain committed to maintaining their connection with students and providing them with the support they need to succeed.\"\n",
            "  ],\n",
            "  [\n",
            "    \"Another problem is the access to anonymity on specific platforms.\",\n",
            "    \"Another issue that arises when using certain online platforms is the lack of anonymity for users, making it difficult for individuals to express themselves freely and without fear of repercussion.\",\n",
            "    \"The use of certain online platforms can be problematic due to the lack of anonymity, as users may feel constrained in expressing their opinions or ideas without fear of backlash or retaliation.\",\n",
            "    \"When using specific online platforms, users may experience difficulty in expressing themselves freely and authentically, due to the lack of anonymity provided by these platforms.\"\n",
            "  ],\n",
            "  [\n",
            "    \"Grant the class-clown a Guy-Fawkes curtain and suddenly, his jokes aren't gonna be quite PG13.\",\n",
            "    \"Granting the class clown a platform for their jokes may result in them becoming more vulgar or inappropriate, as they are given greater freedom to express themselves without fear of censorship or repercussion.\",\n",
            "    \"When the class clown is granted a platform for their jokes, they may become more irreverent and inappropriate, as they are able to express themselves without fear of censorship or repercussion.\",\n",
            "    \"Allowing the class clown to have a platform for their jokes can result in them becoming more vulgar or inappropriate, as they are given greater freedom to express themselves without fear of censorship or repercussion.\"\n",
            "  ]\n",
            "]\n"
          ]
        }
      ]
    }
  ]
}